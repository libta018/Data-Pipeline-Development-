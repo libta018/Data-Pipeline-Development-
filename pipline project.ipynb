{
 "cells": [
  {
   "cell_type": "markdown",
   "id": "c858e20b-b4eb-4d17-8b16-9ce2de993d9f",
   "metadata": {},
   "source": [
    "About this file\n",
    "\n",
    "This dataset contains 11,768 records of laptops with various hardware specifications and prices. It is designed for predictive modeling,\n",
    "price estimation, and exploratory data analysis.\n",
    "The dataset includes real-world values to reflect the factors that influence laptop prices."
   ]
  },
  {
   "cell_type": "code",
   "execution_count": null,
   "id": "035cb626-035e-4254-9711-2886ce58cc5b",
   "metadata": {},
   "outputs": [],
   "source": [
    "import pandas as pd\n",
    "\n",
    "# Load the dataset\n",
    "file_path = \"C:/Users/Admin/Downloads/laptop_prices.csv\"\n",
    "df = pd.read_csv(file_path)\n",
    "\n",
    "# Display basic information and first few rows\n",
    "df.info(), df.head()\n"
   ]
  },
  {
   "cell_type": "code",
   "execution_count": 15,
   "id": "9df37a3e-3063-4f6d-81f7-eaff21be8730",
   "metadata": {},
   "outputs": [],
   "source": [
    "from sklearn.preprocessing import StandardScaler, OneHotEncoder\n",
    "from sklearn.impute import SimpleImputer\n",
    "from sklearn.compose import ColumnTransformer\n",
    "from sklearn.pipeline import Pipeline\n",
    "\n",
    "# Identifying numerical and categorical columns\n",
    "numerical_features = [\"RAM (GB)\", \"Screen Size (inch)\", \"Battery Life (hours)\", \"Weight (kg)\", \"Price ($)\"]\n",
    "categorical_features = [\"Brand\", \"Processor\", \"Storage\", \"GPU\", \"Resolution\", \"Operating System\"]\n",
    "\n",
    "# Handling missing values\n",
    "num_imputer = SimpleImputer(strategy='mean')\n",
    "cat_imputer = SimpleImputer(strategy='most_frequent')\n",
    "\n",
    "# Scaling numerical features\n",
    "scaler = StandardScaler()\n",
    "\n",
    "# Encoding categorical features\n",
    "encoder = OneHotEncoder(handle_unknown='ignore')\n",
    "\n",
    "# Creating pipelines\n",
    "num_pipeline = Pipeline([\n",
    "    ('imputer', num_imputer),\n",
    "    ('scaler', scaler)\n",
    "])\n",
    "\n",
    "cat_pipeline = Pipeline([\n",
    "    ('imputer', cat_imputer),\n",
    "    ('encoder', encoder)\n",
    "])\n",
    "\n",
    "# Applying transformations\n",
    "preprocessor = ColumnTransformer([\n",
    "    ('num', num_pipeline, numerical_features),\n",
    "    ('cat', cat_pipeline, categorical_features)\n",
    "])\n",
    "\n"
   ]
  },
  {
   "cell_type": "code",
   "execution_count": 17,
   "id": "98092d89-7dc1-4cd5-b608-e5a256bc69c0",
   "metadata": {},
   "outputs": [
    {
     "name": "stdout",
     "output_type": "stream",
     "text": [
      "Processed data saved successfully!\n"
     ]
    }
   ],
   "source": [
    "# Convert sparse matrix to dense format\n",
    "processed_data_dense = processed_data.toarray()\n",
    "\n",
    "# Convert to DataFrame\n",
    "processed_df = pd.DataFrame(processed_data_dense, columns=feature_names)\n",
    "\n",
    "# Save processed dataset\n",
    "processed_df.to_csv(\"processed_laptop_prices.csv\", index=False)\n",
    "\n",
    "print(\"Processed data saved successfully!\")\n"
   ]
  },
  {
   "cell_type": "markdown",
   "id": "4b682845-27b0-4db1-9cbe-ab0330017fd8",
   "metadata": {},
   "source": [
    "Insights from the Data\n",
    "\n",
    "Price Variation:\n",
    "The dataset contains laptops with a wide range of prices, from low-budget to high-end gaming/workstations.\n",
    "Brands like Apple, Razer, and Asus have higher average prices.\n",
    "\n",
    "Impact of Specifications on Price:\n",
    "\n",
    "RAM & Storage: More RAM (GB) and larger SSD storage tend to increase price.\n",
    "Processor & GPU: Laptops with high-end GPUs (e.g., Nvidia RTX 3080) are significantly more expensive.\n",
    "Screen Resolution: Higher resolutions (4K/3840x2160) increase price.\n",
    "Feature Engineering Insights:\n",
    "\n",
    "Storage was initially text-based (e.g., \"512GB SSD\"). We extracted the numeric storage size.\n",
    "Categorical Encoding: Transformed Brand, Processor, GPU, etc., into numerical values.\n",
    "\n"
   ]
  },
  {
   "cell_type": "code",
   "execution_count": null,
   "id": "0cf2d9a7-3a91-4c96-b6e5-0d9d1a1f059f",
   "metadata": {},
   "outputs": [],
   "source": []
  },
  {
   "cell_type": "code",
   "execution_count": null,
   "id": "c6d44972-f882-4632-9d0f-4b5c975876b3",
   "metadata": {},
   "outputs": [],
   "source": []
  },
  {
   "cell_type": "code",
   "execution_count": null,
   "id": "1eaec708-a98d-48e2-9370-ae62e2e7e4ca",
   "metadata": {},
   "outputs": [],
   "source": []
  },
  {
   "cell_type": "code",
   "execution_count": null,
   "id": "ef05b073-7b9e-493b-a19b-603b239be45d",
   "metadata": {},
   "outputs": [],
   "source": []
  }
 ],
 "metadata": {
  "kernelspec": {
   "display_name": "Python 3",
   "language": "python",
   "name": "python3"
  },
  "language_info": {
   "codemirror_mode": {
    "name": "ipython",
    "version": 3
   },
   "file_extension": ".py",
   "mimetype": "text/x-python",
   "name": "python",
   "nbconvert_exporter": "python",
   "pygments_lexer": "ipython3",
   "version": "3.10.11"
  }
 },
 "nbformat": 4,
 "nbformat_minor": 5
}
